{
 "cells": [
  {
   "cell_type": "code",
   "execution_count": 17,
   "metadata": {},
   "outputs": [],
   "source": [
    "from typing import Optional\n",
    "\n",
    "import equinox as eqx\n",
    "import jax\n",
    "import jax.numpy as jnp\n",
    "from icecream import ic\n",
    "from jaxtyping import Array, Float, Bool\n",
    "import math\n",
    "\n",
    "query_input_dim = 16\n",
    "query_embedding_dim = 32\n",
    "key_input_dim = 16\n",
    "key_embedding_dim = 32\n",
    "value_input_dim = 16\n",
    "value_embedding_dim = 32\n",
    "num_heads = 4\n",
    "max_seq_len = 10\n",
    "batch_size = 2\n",
    "output_dim = 32\n",
    "\n",
    "key = jax.random.PRNGKey(42)"
   ]
  },
  {
   "cell_type": "code",
   "execution_count": 18,
   "metadata": {},
   "outputs": [],
   "source": [
    "def dot_product_attention(query_projection: Array, key_projection: Array, value_projection: Array, mask: Optional[Array | None]) -> Array:\n",
    "    attention_weights = jax.vmap(\n",
    "        lambda q, k: q @ k.T,\n",
    "        in_axes=(1, 1),\n",
    "        out_axes=1\n",
    "    )(query_projection, key_projection)\n",
    "    attention_weights = attention_weights / jnp.sqrt(key_projection.shape[-1])\n",
    "    ic(attention_weights.shape)\n",
    "    attention_weights = jax.nn.softmax(attention_weights, axis=-1)\n",
    "\n",
    "    return attention_weights"
   ]
  },
  {
   "cell_type": "code",
   "execution_count": 22,
   "metadata": {},
   "outputs": [
    {
     "name": "stderr",
     "output_type": "stream",
     "text": [
      "ic| query.shape: (10, 4, 32)"
     ]
    },
    {
     "name": "stderr",
     "output_type": "stream",
     "text": [
      "\n",
      "ic| key.shape: (10, 4, 32)\n",
      "ic| value.shape: (10, 4, 32)\n",
      "ic| attention_weights.shape: (10, 4, 10)\n",
      "ic| qkv_matmul.shape: (10, 4, 32)\n",
      "ic| concatenation.shape: (10, 128)\n",
      "ic| output.shape: (10, 32)\n"
     ]
    }
   ],
   "source": [
    "# Version 1\n",
    "class MultiheadAttention(eqx.Module):\n",
    "    query_projection: eqx.nn.Linear\n",
    "    key_projection: eqx.nn.Linear\n",
    "    value_projection: eqx.nn.Linear\n",
    "\n",
    "    query_input_dim: int = eqx.field(static=True)\n",
    "    query_embedding_dim: int = eqx.field(static=True)\n",
    "    \n",
    "    key_input_dim: int = eqx.field(static=True)\n",
    "    key_embedding_dim: int = eqx.field(static=True)\n",
    "\n",
    "    value_input_dim: int = eqx.field(static=True)\n",
    "    value_embedding_dim: int = eqx.field(static=True)\n",
    "\n",
    "    output: eqx.nn.Linear\n",
    "    num_heads: int = eqx.field(static=True)\n",
    "    output_dim: int = eqx.field(static=True)\n",
    "\n",
    "    def __init__(self, query_embedding_dim, key_embedding_dim, value_embedding_dim, query_input_dim, key_input_dim, value_input_dim, num_heads, output_dim, key):\n",
    "        qkey, kkey, vkey, okey = jax.random.split(key, 4)\n",
    "        self.query_projection = eqx.nn.Linear(query_input_dim, num_heads * query_embedding_dim, key=qkey, use_bias=False)\n",
    "        self.key_projection = eqx.nn.Linear(key_input_dim, num_heads * key_embedding_dim, key=kkey, use_bias=False)\n",
    "        self.value_projection = eqx.nn.Linear(value_input_dim, num_heads * value_embedding_dim, key=vkey, use_bias=False)\n",
    "\n",
    "        self.output = eqx.nn.Linear(num_heads * value_embedding_dim, output_dim, key=okey, use_bias=False)\n",
    "        \n",
    "        # parameters\n",
    "        self.query_input_dim = query_input_dim\n",
    "        self.query_embedding_dim = query_embedding_dim\n",
    "        self.key_input_dim = key_input_dim\n",
    "        self.key_embedding_dim = key_embedding_dim\n",
    "        self.value_input_dim = value_input_dim\n",
    "        self.value_embedding_dim = value_embedding_dim\n",
    "        self.num_heads = num_heads\n",
    "        self.output_dim = output_dim\n",
    "\n",
    "    def __call__(self, x: Float[Array, \"max_seq_len input_dim\"]):\n",
    "        seq_len, _ = x.shape\n",
    "        query = jax.vmap(self.query_projection)(x).reshape(seq_len, self.num_heads, self.query_embedding_dim)\n",
    "        key = jax.vmap(self.key_projection)(x).reshape(seq_len, self.num_heads, self.key_embedding_dim) \n",
    "        value = jax.vmap(self.value_projection)(x).reshape(seq_len, self.num_heads, self.value_embedding_dim)\n",
    "        ic(query.shape)\n",
    "        ic(key.shape)\n",
    "        ic(value.shape)\n",
    "\n",
    "        scaled_attention_weights = dot_product_attention(query, key, value, None)\n",
    "        \n",
    "        qkv_matmul = jax.vmap(\n",
    "            lambda attention_weights, value: attention_weights @ value,\n",
    "            in_axes=(1, 1),\n",
    "            out_axes=1\n",
    "        )(scaled_attention_weights, value)\n",
    "\n",
    "        ic(qkv_matmul.shape)\n",
    "\n",
    "        concatenation = qkv_matmul.reshape(seq_len, -1)\n",
    "\n",
    "        ic(concatenation.shape)\n",
    "\n",
    "        output = jax.vmap(self.output)(concatenation)\n",
    "        ic(output.shape)\n",
    "        return output\n",
    "\n",
    "key, subkey = jax.random.split(key)\n",
    "mha = MultiheadAttention(query_embedding_dim, key_embedding_dim, value_embedding_dim, query_input_dim, key_input_dim, value_input_dim, num_heads, output_dim, key)\n",
    "x = jax.random.normal(subkey, (max_seq_len, query_input_dim))\n",
    "output = mha(x)"
   ]
  },
  {
   "cell_type": "code",
   "execution_count": null,
   "metadata": {},
   "outputs": [],
   "source": []
  }
 ],
 "metadata": {
  "kernelspec": {
   "display_name": "Python 3",
   "language": "python",
   "name": "python3"
  },
  "language_info": {
   "codemirror_mode": {
    "name": "ipython",
    "version": 3
   },
   "file_extension": ".py",
   "mimetype": "text/x-python",
   "name": "python",
   "nbconvert_exporter": "python",
   "pygments_lexer": "ipython3",
   "version": "3.10.12"
  },
  "orig_nbformat": 4
 },
 "nbformat": 4,
 "nbformat_minor": 2
}
